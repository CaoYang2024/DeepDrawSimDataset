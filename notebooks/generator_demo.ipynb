{
 "cells": [
  {
   "cell_type": "markdown",
   "id": "fed6ffea",
   "metadata": {},
   "source": [
    "## 1. Environment setup"
   ]
  },
  {
   "cell_type": "code",
   "execution_count": 2,
   "id": "0b7a220a",
   "metadata": {},
   "outputs": [],
   "source": [
    "\n",
    "import os\n",
    "from pathlib import Path\n",
    "import numpy as np\n",
    "import pandas as pd\n",
    "\n",
    "# Path to the repository\n",
    "# Make sure this notebook is in the same folder as `generators.py`\n",
    "import sys\n",
    "sys.path.append(\"/home/RUS_CIP/st186635/DeepDrawSimDataset/src/pipelines\")\n",
    "from generators import (\n",
    "    DatasetConfig,\n",
    "    iter_ddacs,\n",
    "    sample_simulations,\n",
    "    get_simulation_by_id,\n",
    "    count_available_simulations,\n",
    ")"
   ]
  },
  {
   "cell_type": "markdown",
   "id": "aac3dd4b",
   "metadata": {},
   "source": [
    "## 2. Dataset configuration"
   ]
  },
  {
   "cell_type": "code",
   "execution_count": 3,
   "id": "46d62977",
   "metadata": {},
   "outputs": [
    {
     "name": "stdout",
     "output_type": "stream",
     "text": [
      "DatasetConfig(data_dir='/mnt/data/hsh', h5_subdir='data_copy', metadata_file='mapping_01.csv', id_column=None, feature_columns=None)\n"
     ]
    }
   ],
   "source": [
    "DATA_DIR = \"/mnt/data/hsh\"        # root of your dataset\n",
    "H5_SUBDIR = \"data_copy\"           # folder containing .h5 files\n",
    "META_FILE = \"mapping_01.csv\"      # metadata CSV\n",
    "ID_COL = None                     # auto-detect ID column\n",
    "FEAT_COLS = None                  # use all columns except ID\n",
    "\n",
    "cfg = DatasetConfig(\n",
    "    data_dir=DATA_DIR,\n",
    "    h5_subdir=H5_SUBDIR,\n",
    "    metadata_file=META_FILE,\n",
    "    id_column=ID_COL,\n",
    "    feature_columns=FEAT_COLS,\n",
    ")\n",
    "\n",
    "print(cfg)"
   ]
  },
  {
   "cell_type": "markdown",
   "id": "a68d9dc2",
   "metadata": {},
   "source": [
    "## 3. Count available samples"
   ]
  },
  {
   "cell_type": "code",
   "execution_count": 4,
   "id": "a43d2f52",
   "metadata": {},
   "outputs": [
    {
     "name": "stdout",
     "output_type": "stream",
     "text": [
      "✅ Total available simulations: 228\n"
     ]
    }
   ],
   "source": [
    "total = count_available_simulations(\n",
    "    data_dir=cfg.data_dir,\n",
    "    h5_subdir=cfg.h5_subdir,\n",
    "    metadata_file=cfg.metadata_file,\n",
    "    id_column=cfg.id_column,\n",
    "    feature_columns=cfg.feature_columns,\n",
    ")\n",
    "\n",
    "print(f\"✅ Total available simulations: {total}\")"
   ]
  },
  {
   "cell_type": "markdown",
   "id": "7b05d389",
   "metadata": {},
   "source": [
    "## 4. Preview first few entries from metadata"
   ]
  },
  {
   "cell_type": "code",
   "execution_count": 5,
   "id": "c40d12fd",
   "metadata": {},
   "outputs": [
    {
     "data": {
      "text/html": [
       "<div>\n",
       "<style scoped>\n",
       "    .dataframe tbody tr th:only-of-type {\n",
       "        vertical-align: middle;\n",
       "    }\n",
       "\n",
       "    .dataframe tbody tr th {\n",
       "        vertical-align: top;\n",
       "    }\n",
       "\n",
       "    .dataframe thead th {\n",
       "        text-align: right;\n",
       "    }\n",
       "</style>\n",
       "<table border=\"1\" class=\"dataframe\">\n",
       "  <thead>\n",
       "    <tr style=\"text-align: right;\">\n",
       "      <th></th>\n",
       "      <th>new_id</th>\n",
       "      <th>orig_id</th>\n",
       "      <th>radii2</th>\n",
       "      <th>radii1</th>\n",
       "      <th>delta</th>\n",
       "      <th>cr</th>\n",
       "      <th>height</th>\n",
       "    </tr>\n",
       "  </thead>\n",
       "  <tbody>\n",
       "    <tr>\n",
       "      <th>0</th>\n",
       "      <td>001.h5</td>\n",
       "      <td>tool_radii2_20_radii1_5_cr_1.1_delta_0_height_...</td>\n",
       "      <td>20</td>\n",
       "      <td>5</td>\n",
       "      <td>0.0</td>\n",
       "      <td>1.1</td>\n",
       "      <td>25</td>\n",
       "    </tr>\n",
       "    <tr>\n",
       "      <th>1</th>\n",
       "      <td>002.h5</td>\n",
       "      <td>tool_radii2_20_radii1_5_cr_1.1_delta_0_height_...</td>\n",
       "      <td>20</td>\n",
       "      <td>5</td>\n",
       "      <td>0.0</td>\n",
       "      <td>1.1</td>\n",
       "      <td>30</td>\n",
       "    </tr>\n",
       "    <tr>\n",
       "      <th>2</th>\n",
       "      <td>003.h5</td>\n",
       "      <td>tool_radii2_20_radii1_5_cr_1.1_delta_0_height_...</td>\n",
       "      <td>20</td>\n",
       "      <td>5</td>\n",
       "      <td>0.0</td>\n",
       "      <td>1.1</td>\n",
       "      <td>35</td>\n",
       "    </tr>\n",
       "    <tr>\n",
       "      <th>3</th>\n",
       "      <td>004.h5</td>\n",
       "      <td>tool_radii2_20_radii1_5_cr_1.1_delta_0_height_...</td>\n",
       "      <td>20</td>\n",
       "      <td>5</td>\n",
       "      <td>0.0</td>\n",
       "      <td>1.1</td>\n",
       "      <td>40</td>\n",
       "    </tr>\n",
       "    <tr>\n",
       "      <th>4</th>\n",
       "      <td>005.h5</td>\n",
       "      <td>tool_radii2_20_radii1_5_cr_1.1_delta_0_height_...</td>\n",
       "      <td>20</td>\n",
       "      <td>5</td>\n",
       "      <td>0.0</td>\n",
       "      <td>1.1</td>\n",
       "      <td>45</td>\n",
       "    </tr>\n",
       "  </tbody>\n",
       "</table>\n",
       "</div>"
      ],
      "text/plain": [
       "   new_id                                            orig_id  radii2  radii1  \\\n",
       "0  001.h5  tool_radii2_20_radii1_5_cr_1.1_delta_0_height_...      20       5   \n",
       "1  002.h5  tool_radii2_20_radii1_5_cr_1.1_delta_0_height_...      20       5   \n",
       "2  003.h5  tool_radii2_20_radii1_5_cr_1.1_delta_0_height_...      20       5   \n",
       "3  004.h5  tool_radii2_20_radii1_5_cr_1.1_delta_0_height_...      20       5   \n",
       "4  005.h5  tool_radii2_20_radii1_5_cr_1.1_delta_0_height_...      20       5   \n",
       "\n",
       "   delta   cr  height  \n",
       "0    0.0  1.1      25  \n",
       "1    0.0  1.1      30  \n",
       "2    0.0  1.1      35  \n",
       "3    0.0  1.1      40  \n",
       "4    0.0  1.1      45  "
      ]
     },
     "metadata": {},
     "output_type": "display_data"
    }
   ],
   "source": [
    "\n",
    "meta_path = Path(cfg.data_dir) / cfg.metadata_file\n",
    "df = pd.read_csv(meta_path)\n",
    "display(df.head())\n"
   ]
  },
  {
   "cell_type": "markdown",
   "id": "cdae532b",
   "metadata": {},
   "source": [
    "## 5. Iterate over first few H5 files\n"
   ]
  },
  {
   "cell_type": "code",
   "execution_count": 6,
   "id": "6424b3f0",
   "metadata": {},
   "outputs": [
    {
     "name": "stdout",
     "output_type": "stream",
     "text": [
      "Listing first 3 samples:\n",
      "ID:   1 | File: 001.h5 | Metadata shape: (6,)\n",
      "ID:   2 | File: 002.h5 | Metadata shape: (6,)\n",
      "ID:   3 | File: 003.h5 | Metadata shape: (6,)\n"
     ]
    }
   ],
   "source": [
    "\n",
    "from itertools import islice\n",
    "\n",
    "print(\"Listing first 3 samples:\")\n",
    "for sim_id, meta, h5_path in islice(\n",
    "    iter_ddacs(cfg.data_dir, cfg.h5_subdir, cfg.metadata_file), 3\n",
    "):\n",
    "    print(f\"ID: {sim_id:>3} | File: {h5_path.name} | Metadata shape: {meta.shape}\")"
   ]
  },
  {
   "cell_type": "markdown",
   "id": "6af85e8e",
   "metadata": {},
   "source": [
    "## 6. Random sampling of simulations\n"
   ]
  },
  {
   "cell_type": "code",
   "execution_count": 7,
   "id": "dae7f82a",
   "metadata": {},
   "outputs": [
    {
     "name": "stdout",
     "output_type": "stream",
     "text": [
      "Random sample of 2 simulations:\n",
      "🧩 Sample ID: 164 | File: 164.h5\n",
      "🧩 Sample ID:  29 | File: 029.h5\n"
     ]
    }
   ],
   "source": [
    "\n",
    "print(\"Random sample of 2 simulations:\")\n",
    "for sim_id, meta, h5_path in sample_simulations(\n",
    "    n=2,\n",
    "    data_dir=cfg.data_dir,\n",
    "    h5_subdir=cfg.h5_subdir,\n",
    "    metadata_file=cfg.metadata_file,\n",
    "    seed=42,\n",
    "):\n",
    "    print(f\"🧩 Sample ID: {sim_id:>3} | File: {h5_path.name}\")"
   ]
  },
  {
   "cell_type": "markdown",
   "id": "8fd9f9dd",
   "metadata": {},
   "source": [
    "## 7. Fetch a specific simulation by ID\n"
   ]
  },
  {
   "cell_type": "code",
   "execution_count": 8,
   "id": "6ec6f0bd",
   "metadata": {},
   "outputs": [
    {
     "name": "stdout",
     "output_type": "stream",
     "text": [
      "Found simulation 1: 001.h5\n",
      "Metadata values: ['tool_radii2_20_radii1_5_cr_1.1_delta_0_height_25.h5' 20 5 0.0 1.1 25]\n"
     ]
    }
   ],
   "source": [
    "\n",
    "example_id = 1\n",
    "item = get_simulation_by_id(\n",
    "    sim_id=example_id,\n",
    "    data_dir=cfg.data_dir,\n",
    "    h5_subdir=cfg.h5_subdir,\n",
    "    metadata_file=cfg.metadata_file,\n",
    ")\n",
    "\n",
    "if item:\n",
    "    sid, meta_vals, h5_path = item\n",
    "    print(f\"Found simulation {sid}: {h5_path.name}\")\n",
    "    print(f\"Metadata values: {meta_vals}\")\n",
    "else:\n",
    "    print(f\"Simulation {example_id} not found.\")"
   ]
  },
  {
   "cell_type": "markdown",
   "id": "f85bc1fd",
   "metadata": {},
   "source": [
    "\n",
    "\n",
    "# choose numeric columns only\n"
   ]
  },
  {
   "cell_type": "code",
   "execution_count": 9,
   "id": "4a21b18c",
   "metadata": {},
   "outputs": [
    {
     "data": {
      "image/png": "[encoded data removed]",
      "text/plain": [
       "<Figure size 1000x600 with 6 Axes>"
      ]
     },
     "metadata": {},
     "output_type": "display_data"
    }
   ],
   "source": [
    "import matplotlib.pyplot as plt\n",
    "num_cols = df.select_dtypes(include=[np.number]).columns.tolist()\n",
    "\n",
    "if num_cols:\n",
    "    df[num_cols].hist(figsize=(10, 6), bins=20)\n",
    "    plt.suptitle(\"Numeric Metadata Distributions\", fontsize=14)\n",
    "    plt.tight_layout()\n",
    "else:\n",
    "    print(\"No numeric columns to visualize.\")"
   ]
  }
 ],
 "metadata": {
  "kernelspec": {
   "display_name": ".venv (3.12.3)",
   "language": "python",
   "name": "python3"
  },
  "language_info": {
   "codemirror_mode": {
    "name": "ipython",
    "version": 3
   },
   "file_extension": ".py",
   "mimetype": "text/x-python",
   "name": "python",
   "nbconvert_exporter": "python",
   "pygments_lexer": "ipython3",
   "version": "3.12.3"
  }
 },
 "nbformat": 4,
 "nbformat_minor": 5
}
